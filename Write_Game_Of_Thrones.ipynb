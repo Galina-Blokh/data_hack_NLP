{
  "nbformat": 4,
  "nbformat_minor": 0,
  "metadata": {
    "accelerator": "GPU",
    "colab": {
      "name": "Copy of Write_Game_Of_Thrones.ipynb",
      "provenance": [],
      "collapsed_sections": [],
      "include_colab_link": true
    },
    "kernelspec": {
      "display_name": "Python 3",
      "language": "python",
      "name": "python3"
    },
    "language_info": {
      "codemirror_mode": {
        "name": "ipython",
        "version": 3
      },
      "file_extension": ".py",
      "mimetype": "text/x-python",
      "name": "python",
      "nbconvert_exporter": "python",
      "pygments_lexer": "ipython3",
      "version": "3.7.6"
    }
  },
  "cells": [
    {
      "cell_type": "markdown",
      "metadata": {
        "id": "view-in-github",
        "colab_type": "text"
      },
      "source": [
        "<a href=\"https://colab.research.google.com/github/Galina-Blokh/data_hack_NLP/blob/main/Write_Game_Of_Thrones.ipynb\" target=\"_parent\"><img src=\"https://colab.research.google.com/assets/colab-badge.svg\" alt=\"Open In Colab\"/></a>"
      ]
    },
    {
      "cell_type": "markdown",
      "metadata": {
        "id": "WGyKZj3bzf9p"
      },
      "source": [
        "### Import TensorFlow and other libraries"
      ]
    },
    {
      "cell_type": "code",
      "metadata": {
        "execution": {
          "iopub.execute_input": "2020-10-14T01:46:36.626320Z",
          "iopub.status.busy": "2020-10-14T01:46:36.625073Z",
          "iopub.status.idle": "2020-10-14T01:46:42.677013Z",
          "shell.execute_reply": "2020-10-14T01:46:42.676435Z"
        },
        "id": "yG_n40gFzf9s"
      },
      "source": [
        "import tensorflow as tf\n",
        "\n",
        "import numpy as np\n",
        "import os\n",
        "import time"
      ],
      "execution_count": 3,
      "outputs": []
    },
    {
      "cell_type": "markdown",
      "metadata": {
        "id": "EHDoRoc5PKWz"
      },
      "source": [
        "### Download the Shakespeare dataset\n",
        "\n",
        "Change the following line to run this code on your own data."
      ]
    },
    {
      "cell_type": "code",
      "metadata": {
        "id": "FR0fNhCl8e_0",
        "colab": {
          "base_uri": "https://localhost:8080/"
        },
        "outputId": "7c043b05-0192-4538-bf14-fef61c95e115"
      },
      "source": [
        "from google.colab import drive\n",
        "drive.mount('/content/drive')"
      ],
      "execution_count": 4,
      "outputs": [
        {
          "output_type": "stream",
          "text": [
            "Drive already mounted at /content/drive; to attempt to forcibly remount, call drive.mount(\"/content/drive\", force_remount=True).\n"
          ],
          "name": "stdout"
        }
      ]
    },
    {
      "cell_type": "markdown",
      "metadata": {
        "id": "UHjdCjDuSvX_"
      },
      "source": [
        "### Read the data\n",
        "\n",
        "First, look in the text:"
      ]
    },
    {
      "cell_type": "code",
      "metadata": {
        "execution": {
          "iopub.execute_input": "2020-10-14T01:46:42.924678Z",
          "iopub.status.busy": "2020-10-14T01:46:42.923576Z",
          "iopub.status.idle": "2020-10-14T01:46:42.927795Z",
          "shell.execute_reply": "2020-10-14T01:46:42.928219Z"
        },
        "id": "aavnuByVymwK",
        "colab": {
          "base_uri": "https://localhost:8080/"
        },
        "outputId": "85edf6c6-fec8-4ef7-ba3e-3cef2f002aa2"
      },
      "source": [
        "path_to_file = '/content/drive/MyDrive/Colab Notebooks/nlp/George R.R. Martin - The Song of Ice and Fire Series.txt'\n",
        "text = open(path_to_file, 'rb').read().decode(encoding='utf-8')\n",
        "# length of text is the number of characters in it\n",
        "print('Length of text: {} characters'.format(len(text)))"
      ],
      "execution_count": 6,
      "outputs": [
        {
          "output_type": "stream",
          "text": [
            "Length of text: 1613635 characters\n"
          ],
          "name": "stdout"
        }
      ]
    },
    {
      "cell_type": "code",
      "metadata": {
        "execution": {
          "iopub.execute_input": "2020-10-14T01:46:42.932181Z",
          "iopub.status.busy": "2020-10-14T01:46:42.931382Z",
          "iopub.status.idle": "2020-10-14T01:46:42.933991Z",
          "shell.execute_reply": "2020-10-14T01:46:42.934441Z"
        },
        "id": "Duhg9NrUymwO",
        "colab": {
          "base_uri": "https://localhost:8080/"
        },
        "outputId": "4e34472b-8976-43c8-a41f-f0137ec574a5"
      },
      "source": [
        "# Take a look at the first 250 characters in text\n",
        "print(text[:250])"
      ],
      "execution_count": 7,
      "outputs": [
        {
          "output_type": "stream",
          "text": [
            "\fA GAME OF THRONES\n",
            "Book One of A Song of Ice and Fire\n",
            "By George R.R. Martin\n",
            "Contents\n",
            "Maps\n",
            "The North\n",
            "The South\n",
            "\n",
            "●\n",
            "●\n",
            "●\n",
            "●\n",
            "●\n",
            "●\n",
            "●\n",
            "●\n",
            "●\n",
            "●\n",
            "●\n",
            "●\n",
            "●\n",
            "\n",
            "Prologue\n",
            "Chapter 1\n",
            "Chapter 2\n",
            "Chapter 3\n",
            "Chapter 4\n",
            "Chapter 5\n",
            "Chapter 6\n",
            "Chapter 7\n",
            "Chapter 8\n",
            "Chapter 9\n",
            "Chapter 10\n",
            "Ch\n"
          ],
          "name": "stdout"
        }
      ]
    },
    {
      "cell_type": "code",
      "metadata": {
        "execution": {
          "iopub.execute_input": "2020-10-14T01:46:42.950981Z",
          "iopub.status.busy": "2020-10-14T01:46:42.950117Z",
          "iopub.status.idle": "2020-10-14T01:46:42.952715Z",
          "shell.execute_reply": "2020-10-14T01:46:42.953146Z"
        },
        "id": "IlCgQBRVymwR",
        "colab": {
          "base_uri": "https://localhost:8080/"
        },
        "outputId": "500afdbc-bc10-4263-9138-070840df661e"
      },
      "source": [
        "# The unique characters in the file\n",
        "vocab = sorted(set(text))\n",
        "print('{} unique characters'.format(len(vocab)))"
      ],
      "execution_count": 8,
      "outputs": [
        {
          "output_type": "stream",
          "text": [
            "85 unique characters\n"
          ],
          "name": "stdout"
        }
      ]
    },
    {
      "cell_type": "markdown",
      "metadata": {
        "id": "rNnrKn_lL-IJ"
      },
      "source": [
        "## Process the text"
      ]
    },
    {
      "cell_type": "markdown",
      "metadata": {
        "id": "LFjSVAlWzf-N"
      },
      "source": [
        "### Vectorize the text\n",
        "\n",
        "Before training, you need to map strings to a numerical representation. Create two lookup tables: one mapping characters to numbers, and another for numbers to characters."
      ]
    },
    {
      "cell_type": "code",
      "metadata": {
        "execution": {
          "iopub.execute_input": "2020-10-14T01:46:42.966713Z",
          "iopub.status.busy": "2020-10-14T01:46:42.961317Z",
          "iopub.status.idle": "2020-10-14T01:46:43.112934Z",
          "shell.execute_reply": "2020-10-14T01:46:43.113337Z"
        },
        "id": "IalZLbvOzf-F"
      },
      "source": [
        "# Creating a mapping from unique characters to indices\n",
        "char2idx = {u:i for i, u in enumerate(vocab)}\n",
        "idx2char = np.array(vocab)\n",
        "\n",
        "text_as_int = np.array([char2idx[c] for c in text])"
      ],
      "execution_count": 9,
      "outputs": []
    },
    {
      "cell_type": "markdown",
      "metadata": {
        "id": "tZfqhkYCymwX"
      },
      "source": [
        "Now you have an integer representation for each character. Notice that you mapped the character as indexes from 0 to `len(unique)`."
      ]
    },
    {
      "cell_type": "code",
      "metadata": {
        "execution": {
          "iopub.execute_input": "2020-10-14T01:46:43.119488Z",
          "iopub.status.busy": "2020-10-14T01:46:43.118453Z",
          "iopub.status.idle": "2020-10-14T01:46:43.122522Z",
          "shell.execute_reply": "2020-10-14T01:46:43.122911Z"
        },
        "id": "FYyNlCNXymwY",
        "colab": {
          "base_uri": "https://localhost:8080/"
        },
        "outputId": "c5a051eb-1a5e-433d-fc87-a16fc114812a"
      },
      "source": [
        "print('{')\n",
        "for char,_ in zip(char2idx, range(20)):\n",
        "    print('  {:4s}: {:3d},'.format(repr(char), char2idx[char]))\n",
        "print('  ...\\n}')"
      ],
      "execution_count": 10,
      "outputs": [
        {
          "output_type": "stream",
          "text": [
            "{\n",
            "  '\\n':   0,\n",
            "  '\\x0c':   1,\n",
            "  ' ' :   2,\n",
            "  '!' :   3,\n",
            "  '&' :   4,\n",
            "  '(' :   5,\n",
            "  ')' :   6,\n",
            "  ',' :   7,\n",
            "  '-' :   8,\n",
            "  '.' :   9,\n",
            "  '0' :  10,\n",
            "  '1' :  11,\n",
            "  '2' :  12,\n",
            "  '3' :  13,\n",
            "  '4' :  14,\n",
            "  '5' :  15,\n",
            "  '6' :  16,\n",
            "  '7' :  17,\n",
            "  '8' :  18,\n",
            "  '9' :  19,\n",
            "  ...\n",
            "}\n"
          ],
          "name": "stdout"
        }
      ]
    },
    {
      "cell_type": "code",
      "metadata": {
        "execution": {
          "iopub.execute_input": "2020-10-14T01:46:43.127751Z",
          "iopub.status.busy": "2020-10-14T01:46:43.126864Z",
          "iopub.status.idle": "2020-10-14T01:46:43.129661Z",
          "shell.execute_reply": "2020-10-14T01:46:43.130073Z"
        },
        "id": "l1VKcQHcymwb",
        "colab": {
          "base_uri": "https://localhost:8080/"
        },
        "outputId": "a6ab9d0b-5e6b-4eea-9fd4-5907ccf72575"
      },
      "source": [
        "# Show how the first 13 characters from the text are mapped to integers\n",
        "print('{} ---- characters mapped to int ---- > {}'.format(repr(text[:13]), text_as_int[:13]))"
      ],
      "execution_count": 11,
      "outputs": [
        {
          "output_type": "stream",
          "text": [
            "'\\x0cA GAME OF TH' ---- characters mapped to int ---- > [ 1 23  2 29 23 35 27  2 37 28  2 42 30]\n"
          ],
          "name": "stdout"
        }
      ]
    },
    {
      "cell_type": "markdown",
      "metadata": {
        "id": "bbmsf23Bymwe"
      },
      "source": [
        "### The prediction task"
      ]
    },
    {
      "cell_type": "markdown",
      "metadata": {
        "id": "wssHQ1oGymwe"
      },
      "source": [
        "Given a character, or a sequence of characters, what is the most probable next character? This is the task you're training the model to perform. The input to the model will be a sequence of characters, and you train the model to predict the output—the following character at each time step.\n",
        "\n",
        "Since RNNs maintain an internal state that depends on the previously seen elements, given all the characters computed until this moment, what is the next character?\n"
      ]
    },
    {
      "cell_type": "markdown",
      "metadata": {
        "id": "hgsVvVxnymwf"
      },
      "source": [
        "### Create training examples and targets\n",
        "\n",
        "Next divide the text into example sequences. Each input sequence will contain `seq_length` characters from the text.\n",
        "\n",
        "For each input sequence, the corresponding targets contain the same length of text, except shifted one character to the right.\n",
        "\n",
        "So break the text into chunks of `seq_length+1`. For example, say `seq_length` is 4 and our text is \"Hello\". The input sequence would be \"Hell\", and the target sequence \"ello\".\n",
        "\n",
        "To do this first use the `tf.data.Dataset.from_tensor_slices` function to convert the text vector into a stream of character indices."
      ]
    },
    {
      "cell_type": "code",
      "metadata": {
        "execution": {
          "iopub.execute_input": "2020-10-14T01:46:44.494847Z",
          "iopub.status.busy": "2020-10-14T01:46:44.494088Z",
          "iopub.status.idle": "2020-10-14T01:46:44.509386Z",
          "shell.execute_reply": "2020-10-14T01:46:44.508797Z"
        },
        "id": "0UHJDA39zf-O",
        "colab": {
          "base_uri": "https://localhost:8080/"
        },
        "outputId": "cf8bdab8-4a31-424d-a777-9e90a642d698"
      },
      "source": [
        "# The maximum length sentence you want for a single input in characters\n",
        "seq_length = 100\n",
        "examples_per_epoch = len(text)//(seq_length+1)\n",
        "\n",
        "# Create training examples / targets\n",
        "char_dataset = tf.data.Dataset.from_tensor_slices(text_as_int)\n",
        "\n",
        "for i in char_dataset.take(5):\n",
        "    print(idx2char[i.numpy()])"
      ],
      "execution_count": 12,
      "outputs": [
        {
          "output_type": "stream",
          "text": [
            "\f\n",
            "A\n",
            " \n",
            "G\n",
            "A\n"
          ],
          "name": "stdout"
        }
      ]
    },
    {
      "cell_type": "markdown",
      "metadata": {
        "id": "-ZSYAcQV8OGP"
      },
      "source": [
        "The `batch` method lets us easily convert these individual characters to sequences of the desired size."
      ]
    },
    {
      "cell_type": "code",
      "metadata": {
        "execution": {
          "iopub.execute_input": "2020-10-14T01:46:44.514806Z",
          "iopub.status.busy": "2020-10-14T01:46:44.514150Z",
          "iopub.status.idle": "2020-10-14T01:46:44.527695Z",
          "shell.execute_reply": "2020-10-14T01:46:44.528111Z"
        },
        "id": "l4hkDU3i7ozi",
        "colab": {
          "base_uri": "https://localhost:8080/"
        },
        "outputId": "49ca5f0c-7e87-4869-c93e-af3f9029c903"
      },
      "source": [
        "sequences = char_dataset.batch(seq_length+1, drop_remainder=True)\n",
        "\n",
        "for item in sequences.take(5):\n",
        "    print(repr(''.join(idx2char[item.numpy()])))"
      ],
      "execution_count": 13,
      "outputs": [
        {
          "output_type": "stream",
          "text": [
            "'\\x0cA GAME OF THRONES\\nBook One of A Song of Ice and Fire\\nBy George R.R. Martin\\nContents\\nMaps\\nThe North\\nT'\n",
            "'he South\\n\\n●\\n●\\n●\\n●\\n●\\n●\\n●\\n●\\n●\\n●\\n●\\n●\\n●\\n\\nPrologue\\nChapter 1\\nChapter 2\\nChapter 3\\nChapter 4\\nChapter 5\\nChapt'\n",
            "'er 6\\nChapter 7\\nChapter 8\\nChapter 9\\nChapter 10\\nChapter 11\\nChapter 12\\n\\n\\x0c●\\n●\\n●\\n●\\n●\\n●\\n●\\n●\\n●\\n●\\n●\\n●\\n●\\n●\\n●\\n●'\n",
            "'\\n●\\n●\\n●\\n●\\n●\\n●\\n●\\n●\\n●\\n●\\n●\\n●\\n●\\n●\\n●\\n●\\n●\\n●\\n●\\n●\\n●\\n●\\n\\nChapter 13\\nChapter 14\\nChapter 15\\nChapter 16\\nChapter 17\\n'\n",
            "'Chapter 18\\nChapter 19\\nChapter 20\\nChapter 21\\nChapter 22\\nChapter 23\\nChapter 24\\nChapter 25\\nChapter 26\\nCh'\n"
          ],
          "name": "stdout"
        }
      ]
    },
    {
      "cell_type": "markdown",
      "metadata": {
        "id": "UbLcIPBj_mWZ"
      },
      "source": [
        "For each sequence, duplicate and shift it to form the input and target text by using the `map` method to apply a simple function to each batch:"
      ]
    },
    {
      "cell_type": "code",
      "metadata": {
        "execution": {
          "iopub.execute_input": "2020-10-14T01:46:44.560283Z",
          "iopub.status.busy": "2020-10-14T01:46:44.557720Z",
          "iopub.status.idle": "2020-10-14T01:46:44.593416Z",
          "shell.execute_reply": "2020-10-14T01:46:44.592859Z"
        },
        "id": "9NGu-FkO_kYU"
      },
      "source": [
        "def split_input_target(chunk):\n",
        "    input_text = chunk[:-1]\n",
        "    target_text = chunk[1:]\n",
        "    return input_text, target_text\n",
        "\n",
        "dataset = sequences.map(split_input_target)"
      ],
      "execution_count": 14,
      "outputs": []
    },
    {
      "cell_type": "markdown",
      "metadata": {
        "id": "hiCopyGZymwi"
      },
      "source": [
        "Print the first example input and target values:"
      ]
    },
    {
      "cell_type": "code",
      "metadata": {
        "execution": {
          "iopub.execute_input": "2020-10-14T01:46:44.598536Z",
          "iopub.status.busy": "2020-10-14T01:46:44.597852Z",
          "iopub.status.idle": "2020-10-14T01:46:44.615870Z",
          "shell.execute_reply": "2020-10-14T01:46:44.615374Z"
        },
        "id": "GNbw-iR0ymwj",
        "colab": {
          "base_uri": "https://localhost:8080/"
        },
        "outputId": "920b23e9-793d-43ff-de2d-5f8ad1e082e8"
      },
      "source": [
        "for input_example, target_example in  dataset.take(1):\n",
        "    print('Input data: ', repr(''.join(idx2char[input_example.numpy()])))\n",
        "    print('Target data:', repr(''.join(idx2char[target_example.numpy()])))"
      ],
      "execution_count": 15,
      "outputs": [
        {
          "output_type": "stream",
          "text": [
            "Input data:  '\\x0cA GAME OF THRONES\\nBook One of A Song of Ice and Fire\\nBy George R.R. Martin\\nContents\\nMaps\\nThe North\\n'\n",
            "Target data: 'A GAME OF THRONES\\nBook One of A Song of Ice and Fire\\nBy George R.R. Martin\\nContents\\nMaps\\nThe North\\nT'\n"
          ],
          "name": "stdout"
        }
      ]
    },
    {
      "cell_type": "markdown",
      "metadata": {
        "id": "_33OHL3b84i0"
      },
      "source": [
        "Each index of these vectors is processed as a one time step. For the input at time step 0, the model receives the index for \"F\" and tries to predict the index for \"i\" as the next character. At the next timestep, it does the same thing but the `RNN` considers the previous step context in addition to the current input character."
      ]
    },
    {
      "cell_type": "code",
      "metadata": {
        "execution": {
          "iopub.execute_input": "2020-10-14T01:46:44.621004Z",
          "iopub.status.busy": "2020-10-14T01:46:44.620368Z",
          "iopub.status.idle": "2020-10-14T01:46:44.917015Z",
          "shell.execute_reply": "2020-10-14T01:46:44.916423Z"
        },
        "id": "0eBu9WZG84i0",
        "colab": {
          "base_uri": "https://localhost:8080/"
        },
        "outputId": "7c6f48a5-779b-43aa-a366-5946986f9128"
      },
      "source": [
        "for i, (input_idx, target_idx) in enumerate(zip(input_example[:5], target_example[:5])):\n",
        "    print(\"Step {:4d}\".format(i))\n",
        "    print(\"  input: {} ({:s})\".format(input_idx, repr(idx2char[input_idx])))\n",
        "    print(\"  expected output: {} ({:s})\".format(target_idx, repr(idx2char[target_idx])))"
      ],
      "execution_count": 16,
      "outputs": [
        {
          "output_type": "stream",
          "text": [
            "Step    0\n",
            "  input: 1 ('\\x0c')\n",
            "  expected output: 23 ('A')\n",
            "Step    1\n",
            "  input: 23 ('A')\n",
            "  expected output: 2 (' ')\n",
            "Step    2\n",
            "  input: 2 (' ')\n",
            "  expected output: 29 ('G')\n",
            "Step    3\n",
            "  input: 29 ('G')\n",
            "  expected output: 23 ('A')\n",
            "Step    4\n",
            "  input: 23 ('A')\n",
            "  expected output: 35 ('M')\n"
          ],
          "name": "stdout"
        }
      ]
    },
    {
      "cell_type": "markdown",
      "metadata": {
        "id": "MJdfPmdqzf-R"
      },
      "source": [
        "### Create training batches\n",
        "\n",
        "You used `tf.data` to split the text into manageable sequences. But before feeding this data into the model, you need to shuffle the data and pack it into batches."
      ]
    },
    {
      "cell_type": "code",
      "metadata": {
        "execution": {
          "iopub.execute_input": "2020-10-14T01:46:44.921732Z",
          "iopub.status.busy": "2020-10-14T01:46:44.921034Z",
          "iopub.status.idle": "2020-10-14T01:46:44.932414Z",
          "shell.execute_reply": "2020-10-14T01:46:44.932835Z"
        },
        "id": "p2pGotuNzf-S",
        "colab": {
          "base_uri": "https://localhost:8080/"
        },
        "outputId": "28452f56-ed52-4b63-de80-b2b4c9196c15"
      },
      "source": [
        "# Batch size\n",
        "BATCH_SIZE = 64\n",
        "\n",
        "# Buffer size to shuffle the dataset\n",
        "# (TF data is designed to work with possibly infinite sequences,\n",
        "# so it doesn't attempt to shuffle the entire sequence in memory. Instead,\n",
        "# it maintains a buffer in which it shuffles elements).\n",
        "BUFFER_SIZE = 10000\n",
        "\n",
        "dataset = dataset.shuffle(BUFFER_SIZE).batch(BATCH_SIZE, drop_remainder=True)\n",
        "\n",
        "dataset"
      ],
      "execution_count": 17,
      "outputs": [
        {
          "output_type": "execute_result",
          "data": {
            "text/plain": [
              "<BatchDataset shapes: ((64, 100), (64, 100)), types: (tf.int64, tf.int64)>"
            ]
          },
          "metadata": {
            "tags": []
          },
          "execution_count": 17
        }
      ]
    },
    {
      "cell_type": "markdown",
      "metadata": {
        "id": "r6oUuElIMgVx"
      },
      "source": [
        "## Build The Model"
      ]
    },
    {
      "cell_type": "markdown",
      "metadata": {
        "id": "m8gPwEjRzf-Z"
      },
      "source": [
        "Use `tf.keras.Sequential` to define the model. For this simple example three layers are used to define our model:\n",
        "\n",
        "* `tf.keras.layers.Embedding`: The input layer. A trainable lookup table that will map the numbers of each character to a vector with `embedding_dim` dimensions;\n",
        "* `tf.keras.layers.GRU`: A type of RNN with size `units=rnn_units` (You can also use an LSTM layer here.)\n",
        "* `tf.keras.layers.Dense`: The output layer, with `vocab_size` outputs."
      ]
    },
    {
      "cell_type": "code",
      "metadata": {
        "execution": {
          "iopub.execute_input": "2020-10-14T01:46:44.937602Z",
          "iopub.status.busy": "2020-10-14T01:46:44.936832Z",
          "iopub.status.idle": "2020-10-14T01:46:44.939374Z",
          "shell.execute_reply": "2020-10-14T01:46:44.938871Z"
        },
        "id": "zHT8cLh7EAsg"
      },
      "source": [
        "# Length of the vocabulary in chars\n",
        "vocab_size = len(vocab)\n",
        "\n",
        "# The embedding dimension\n",
        "embedding_dim = 256\n",
        "\n",
        "# Number of RNN units\n",
        "rnn_units = 1024"
      ],
      "execution_count": 18,
      "outputs": []
    },
    {
      "cell_type": "code",
      "metadata": {
        "execution": {
          "iopub.execute_input": "2020-10-14T01:46:44.944850Z",
          "iopub.status.busy": "2020-10-14T01:46:44.944014Z",
          "iopub.status.idle": "2020-10-14T01:46:44.946130Z",
          "shell.execute_reply": "2020-10-14T01:46:44.946533Z"
        },
        "id": "MtCrdfzEI2N0"
      },
      "source": [
        "def build_model(vocab_size, embedding_dim, rnn_units, batch_size):\n",
        "    model = tf.keras.Sequential([\n",
        "        tf.keras.layers.Embedding(vocab_size, embedding_dim,\n",
        "                                  batch_input_shape=[batch_size, None]),\n",
        "        tf.keras.layers.GRU(rnn_units,\n",
        "                            return_sequences=True,\n",
        "                            stateful=True,\n",
        "                            recurrent_initializer='glorot_uniform'),\n",
        "        tf.keras.layers.Dense(vocab_size)\n",
        "    ])\n",
        "    return model"
      ],
      "execution_count": 19,
      "outputs": []
    },
    {
      "cell_type": "code",
      "metadata": {
        "execution": {
          "iopub.execute_input": "2020-10-14T01:46:44.950589Z",
          "iopub.status.busy": "2020-10-14T01:46:44.949936Z",
          "iopub.status.idle": "2020-10-14T01:46:45.161891Z",
          "shell.execute_reply": "2020-10-14T01:46:45.162336Z"
        },
        "id": "wwsrpOik5zhv"
      },
      "source": [
        "model = build_model(\n",
        "    vocab_size=len(vocab),\n",
        "    embedding_dim=embedding_dim,\n",
        "    rnn_units=rnn_units,\n",
        "    batch_size=BATCH_SIZE)"
      ],
      "execution_count": 20,
      "outputs": []
    },
    {
      "cell_type": "markdown",
      "metadata": {
        "id": "RkA5upJIJ7W7"
      },
      "source": [
        "For each character the model looks up the embedding, runs the GRU one timestep with the embedding as input, and applies the dense layer to generate logits predicting the log-likelihood of the next character:\n",
        "\n",
        "![A drawing of the data passing through the model](images/text_generation_training.png)"
      ]
    },
    {
      "cell_type": "markdown",
      "metadata": {
        "id": "gKbfm04amhXk"
      },
      "source": [
        "Please note that Keras sequential model is used here since all the layers in the model only have single input and produce single output. In case you want to retrieve and reuse the states from stateful RNN layer, you might want to build your model with Keras functional API or model subclassing. Please check [Keras RNN guide](https://www.tensorflow.org/guide/keras/rnn#rnn_state_reuse) for more details."
      ]
    },
    {
      "cell_type": "markdown",
      "metadata": {
        "id": "-ubPo0_9Prjb"
      },
      "source": [
        "## Try the model\n",
        "\n",
        "Now run the model to see that it behaves as expected.\n",
        "\n",
        "First check the shape of the output:"
      ]
    },
    {
      "cell_type": "code",
      "metadata": {
        "execution": {
          "iopub.execute_input": "2020-10-14T01:46:45.168118Z",
          "iopub.status.busy": "2020-10-14T01:46:45.167395Z",
          "iopub.status.idle": "2020-10-14T01:46:47.829144Z",
          "shell.execute_reply": "2020-10-14T01:46:47.828625Z"
        },
        "id": "C-_70kKAPrPU",
        "colab": {
          "base_uri": "https://localhost:8080/"
        },
        "outputId": "6b2862da-9316-4888-cf8a-ab7874b4584b"
      },
      "source": [
        "for input_example_batch, target_example_batch in dataset.take(1):\n",
        "    example_batch_predictions = model(input_example_batch)\n",
        "    print(example_batch_predictions.shape, \"# (batch_size, sequence_length, vocab_size)\")"
      ],
      "execution_count": 21,
      "outputs": [
        {
          "output_type": "stream",
          "text": [
            "(64, 100, 85) # (batch_size, sequence_length, vocab_size)\n"
          ],
          "name": "stdout"
        }
      ]
    },
    {
      "cell_type": "markdown",
      "metadata": {
        "id": "Q6NzLBi4VM4o"
      },
      "source": [
        "In the above example the sequence length of the input is `100` but the model can be run on inputs of any length:"
      ]
    },
    {
      "cell_type": "code",
      "metadata": {
        "execution": {
          "iopub.execute_input": "2020-10-14T01:46:47.835818Z",
          "iopub.status.busy": "2020-10-14T01:46:47.834783Z",
          "iopub.status.idle": "2020-10-14T01:46:47.838369Z",
          "shell.execute_reply": "2020-10-14T01:46:47.837843Z"
        },
        "id": "vPGmAAXmVLGC",
        "colab": {
          "base_uri": "https://localhost:8080/"
        },
        "outputId": "2004c864-a37e-4b57-b515-6f62f551ecff"
      },
      "source": [
        "model.summary()"
      ],
      "execution_count": 22,
      "outputs": [
        {
          "output_type": "stream",
          "text": [
            "Model: \"sequential\"\n",
            "_________________________________________________________________\n",
            "Layer (type)                 Output Shape              Param #   \n",
            "=================================================================\n",
            "embedding (Embedding)        (64, None, 256)           21760     \n",
            "_________________________________________________________________\n",
            "gru (GRU)                    (64, None, 1024)          3938304   \n",
            "_________________________________________________________________\n",
            "dense (Dense)                (64, None, 85)            87125     \n",
            "=================================================================\n",
            "Total params: 4,047,189\n",
            "Trainable params: 4,047,189\n",
            "Non-trainable params: 0\n",
            "_________________________________________________________________\n"
          ],
          "name": "stdout"
        }
      ]
    },
    {
      "cell_type": "markdown",
      "metadata": {
        "id": "uwv0gEkURfx1"
      },
      "source": [
        "To get actual predictions from the model you need to sample from the output distribution, to get actual character indices. This distribution is defined by the logits over the character vocabulary.\n",
        "\n",
        "Note: It is important to _sample_ from this distribution as taking the _argmax_ of the distribution can easily get the model stuck in a loop.\n",
        "\n",
        "Try it for the first example in the batch:"
      ]
    },
    {
      "cell_type": "code",
      "metadata": {
        "execution": {
          "iopub.execute_input": "2020-10-14T01:46:47.842856Z",
          "iopub.status.busy": "2020-10-14T01:46:47.842025Z",
          "iopub.status.idle": "2020-10-14T01:46:47.845423Z",
          "shell.execute_reply": "2020-10-14T01:46:47.844929Z"
        },
        "id": "4V4MfFg0RQJg"
      },
      "source": [
        "sampled_indices = tf.random.categorical(example_batch_predictions[0], num_samples=1)\n",
        "sampled_indices = tf.squeeze(sampled_indices,axis=-1).numpy()"
      ],
      "execution_count": 23,
      "outputs": []
    },
    {
      "cell_type": "markdown",
      "metadata": {
        "id": "QM1Vbxs_URw5"
      },
      "source": [
        "This gives us, at each timestep, a prediction of the next character index:"
      ]
    },
    {
      "cell_type": "code",
      "metadata": {
        "execution": {
          "iopub.execute_input": "2020-10-14T01:46:47.850314Z",
          "iopub.status.busy": "2020-10-14T01:46:47.849486Z",
          "iopub.status.idle": "2020-10-14T01:46:47.852877Z",
          "shell.execute_reply": "2020-10-14T01:46:47.852389Z"
        },
        "id": "YqFMUQc_UFgM",
        "colab": {
          "base_uri": "https://localhost:8080/"
        },
        "outputId": "7ac314bf-ee18-42f5-a9f8-fbbe85b6dd2c"
      },
      "source": [
        "sampled_indices"
      ],
      "execution_count": 24,
      "outputs": [
        {
          "output_type": "execute_result",
          "data": {
            "text/plain": [
              "array([61, 84, 18, 49, 30, 82, 54, 24, 55, 20, 60, 28, 62, 22, 15, 18,  7,\n",
              "       20, 53,  2, 65,  7, 55, 40, 65, 79, 72, 37, 31, 36,  1, 58,  4, 10,\n",
              "       43, 19, 68, 54, 69, 46, 72, 29, 63, 48, 29, 69, 24, 61, 57, 19, 14,\n",
              "       54, 62, 81,  8, 83, 81,  6, 54, 34, 43, 81, 65, 11, 34, 36, 37,  7,\n",
              "       71, 55, 50, 78,  4, 33, 72, 36, 76, 80, 50, 29, 40, 21, 69, 13, 61,\n",
              "       33, 38, 84, 82, 54, 57, 49, 34, 55, 48, 31, 62, 46, 71, 46])"
            ]
          },
          "metadata": {
            "tags": []
          },
          "execution_count": 24
        }
      ]
    },
    {
      "cell_type": "markdown",
      "metadata": {
        "id": "LfLtsP3mUhCG"
      },
      "source": [
        "Decode these to see the text predicted by this untrained model:"
      ]
    },
    {
      "cell_type": "code",
      "metadata": {
        "execution": {
          "iopub.execute_input": "2020-10-14T01:46:47.857834Z",
          "iopub.status.busy": "2020-10-14T01:46:47.856832Z",
          "iopub.status.idle": "2020-10-14T01:46:47.860610Z",
          "shell.execute_reply": "2020-10-14T01:46:47.860986Z"
        },
        "id": "xWcFwPwLSo05",
        "colab": {
          "base_uri": "https://localhost:8080/"
        },
        "outputId": "cd87b248-912d-4261-ad3d-56b9309ab88d"
      },
      "source": [
        "print(\"Input: \\n\", repr(\"\".join(idx2char[input_example_batch[0]])))\n",
        "print()\n",
        "print(\"Next Char Predictions: \\n\", repr(\"\".join(idx2char[sampled_indices ])))"
      ],
      "execution_count": 25,
      "outputs": [
        {
          "output_type": "stream",
          "text": [
            "Input: \n",
            " 's Landing either. Even\\nhis own mother had not had a place for him. The thought of her made him sad. '\n",
            "\n",
            "Next Char Predictions: \n",
            " 'l●8]H“eBf:kFm?58,:d p,fRp—wOIN\\x0ci&0U9setXwGn[GtBlh94em’-”’)eLU’p1LNO,vfa}&KwN{‘aGR;t3lKP●“eh]Lf[ImXvX'\n"
          ],
          "name": "stdout"
        }
      ]
    },
    {
      "cell_type": "markdown",
      "metadata": {
        "id": "LJL0Q0YPY6Ee"
      },
      "source": [
        "## Train the model"
      ]
    },
    {
      "cell_type": "markdown",
      "metadata": {
        "id": "YCbHQHiaa4Ic"
      },
      "source": [
        "At this point the problem can be treated as a standard classification problem. Given the previous RNN state, and the input this time step, predict the class of the next character."
      ]
    },
    {
      "cell_type": "markdown",
      "metadata": {
        "id": "trpqTWyvk0nr"
      },
      "source": [
        "### Attach an optimizer, and a loss function"
      ]
    },
    {
      "cell_type": "markdown",
      "metadata": {
        "id": "UAjbjY03eiQ4"
      },
      "source": [
        "The standard `tf.keras.losses.sparse_categorical_crossentropy` loss function works in this case because it is applied across the last dimension of the predictions.\n",
        "\n",
        "Because your model returns logits, you need to set the `from_logits` flag.\n"
      ]
    },
    {
      "cell_type": "code",
      "metadata": {
        "execution": {
          "iopub.execute_input": "2020-10-14T01:46:47.865987Z",
          "iopub.status.busy": "2020-10-14T01:46:47.865306Z",
          "iopub.status.idle": "2020-10-14T01:46:47.871046Z",
          "shell.execute_reply": "2020-10-14T01:46:47.870604Z"
        },
        "id": "4HrXTACTdzY-",
        "colab": {
          "base_uri": "https://localhost:8080/"
        },
        "outputId": "74261770-2a99-42ba-b1b3-e25d1f20c52a"
      },
      "source": [
        "def loss(labels, logits):\n",
        "    return tf.keras.losses.sparse_categorical_crossentropy(labels, logits, from_logits=True)\n",
        "\n",
        "example_batch_loss = loss(target_example_batch, example_batch_predictions)\n",
        "print(\"Prediction shape: \", example_batch_predictions.shape, \" # (batch_size, sequence_length, vocab_size)\")\n",
        "print(\"scalar_loss:      \", example_batch_loss.numpy().mean())"
      ],
      "execution_count": 26,
      "outputs": [
        {
          "output_type": "stream",
          "text": [
            "Prediction shape:  (64, 100, 85)  # (batch_size, sequence_length, vocab_size)\n",
            "scalar_loss:       4.443179\n"
          ],
          "name": "stdout"
        }
      ]
    },
    {
      "cell_type": "markdown",
      "metadata": {
        "id": "jeOXriLcymww"
      },
      "source": [
        "Configure the training procedure using the `tf.keras.Model.compile` method. Use `tf.keras.optimizers.Adam` with default arguments and the loss function."
      ]
    },
    {
      "cell_type": "code",
      "metadata": {
        "execution": {
          "iopub.execute_input": "2020-10-14T01:46:47.883091Z",
          "iopub.status.busy": "2020-10-14T01:46:47.882451Z",
          "iopub.status.idle": "2020-10-14T01:46:47.890277Z",
          "shell.execute_reply": "2020-10-14T01:46:47.889804Z"
        },
        "id": "DDl1_Een6rL0"
      },
      "source": [
        "model.compile(optimizer='adam', loss=loss)"
      ],
      "execution_count": 27,
      "outputs": []
    },
    {
      "cell_type": "markdown",
      "metadata": {
        "id": "ieSJdchZggUj"
      },
      "source": [
        "### Configure checkpoints"
      ]
    },
    {
      "cell_type": "markdown",
      "metadata": {
        "id": "C6XBUUavgF56"
      },
      "source": [
        "Use a `tf.keras.callbacks.ModelCheckpoint` to ensure that checkpoints are saved during training:"
      ]
    },
    {
      "cell_type": "code",
      "metadata": {
        "execution": {
          "iopub.execute_input": "2020-10-14T01:46:47.895548Z",
          "iopub.status.busy": "2020-10-14T01:46:47.894695Z",
          "iopub.status.idle": "2020-10-14T01:46:47.896964Z",
          "shell.execute_reply": "2020-10-14T01:46:47.897388Z"
        },
        "id": "W6fWTriUZP-n"
      },
      "source": [
        "# Directory where the checkpoints will be saved\n",
        "checkpoint_dir = './training_checkpoints'\n",
        "# Name of the checkpoint files\n",
        "checkpoint_prefix = os.path.join(checkpoint_dir, \"ckpt_{epoch}\")\n",
        "\n",
        "checkpoint_callback = tf.keras.callbacks.ModelCheckpoint(\n",
        "    filepath=checkpoint_prefix,\n",
        "    save_weights_only=True)"
      ],
      "execution_count": 28,
      "outputs": []
    },
    {
      "cell_type": "markdown",
      "metadata": {
        "id": "3Ky3F_BhgkTW"
      },
      "source": [
        "### Execute the training"
      ]
    },
    {
      "cell_type": "markdown",
      "metadata": {
        "id": "IxdOA-rgyGvs"
      },
      "source": [
        "To keep training time reasonable, use 10 epochs to train the model. In Colab, set the runtime to GPU for faster training."
      ]
    },
    {
      "cell_type": "code",
      "metadata": {
        "execution": {
          "iopub.execute_input": "2020-10-14T01:46:47.901669Z",
          "iopub.status.busy": "2020-10-14T01:46:47.900908Z",
          "iopub.status.idle": "2020-10-14T01:46:47.903457Z",
          "shell.execute_reply": "2020-10-14T01:46:47.902937Z"
        },
        "id": "7yGBE2zxMMHs"
      },
      "source": [
        "EPOCHS = 10"
      ],
      "execution_count": 29,
      "outputs": []
    },
    {
      "cell_type": "code",
      "metadata": {
        "execution": {
          "iopub.execute_input": "2020-10-14T01:46:47.907722Z",
          "iopub.status.busy": "2020-10-14T01:46:47.907092Z",
          "iopub.status.idle": "2020-10-14T01:47:44.050116Z",
          "shell.execute_reply": "2020-10-14T01:47:44.049522Z"
        },
        "id": "UK-hmKjYVoll",
        "colab": {
          "base_uri": "https://localhost:8080/"
        },
        "outputId": "5d5bba2c-0d6d-4190-fdc9-58a9d152ce84"
      },
      "source": [
        "history = model.fit(dataset, epochs=EPOCHS, callbacks=[checkpoint_callback])"
      ],
      "execution_count": 30,
      "outputs": [
        {
          "output_type": "stream",
          "text": [
            "Epoch 1/10\n",
            "249/249 [==============================] - 14s 55ms/step - loss: 2.4473\n",
            "Epoch 2/10\n",
            "249/249 [==============================] - 14s 56ms/step - loss: 1.7553\n",
            "Epoch 3/10\n",
            "249/249 [==============================] - 14s 58ms/step - loss: 1.4929\n",
            "Epoch 4/10\n",
            "249/249 [==============================] - 15s 59ms/step - loss: 1.3723\n",
            "Epoch 5/10\n",
            "249/249 [==============================] - 15s 61ms/step - loss: 1.3031\n",
            "Epoch 6/10\n",
            "249/249 [==============================] - 15s 61ms/step - loss: 1.2543\n",
            "Epoch 7/10\n",
            "249/249 [==============================] - 15s 60ms/step - loss: 1.2156\n",
            "Epoch 8/10\n",
            "249/249 [==============================] - 15s 59ms/step - loss: 1.1821\n",
            "Epoch 9/10\n",
            "249/249 [==============================] - 15s 60ms/step - loss: 1.1515\n",
            "Epoch 10/10\n",
            "249/249 [==============================] - 15s 60ms/step - loss: 1.1234\n"
          ],
          "name": "stdout"
        }
      ]
    },
    {
      "cell_type": "markdown",
      "metadata": {
        "id": "kKkD5M6eoSiN"
      },
      "source": [
        "## Generate text"
      ]
    },
    {
      "cell_type": "markdown",
      "metadata": {
        "id": "JIPcXllKjkdr"
      },
      "source": [
        "### Restore the latest checkpoint"
      ]
    },
    {
      "cell_type": "markdown",
      "metadata": {
        "id": "LyeYRiuVjodY"
      },
      "source": [
        "To keep this prediction step simple, use a batch size of 1.\n",
        "\n",
        "Because of the way the RNN state is passed from timestep to timestep, the model only accepts a fixed batch size once built.\n",
        "\n",
        "To run the model with a different `batch_size`, you need to rebuild the model and restore the weights from the checkpoint.\n"
      ]
    },
    {
      "cell_type": "code",
      "metadata": {
        "execution": {
          "iopub.execute_input": "2020-10-14T01:47:44.055058Z",
          "iopub.status.busy": "2020-10-14T01:47:44.054323Z",
          "iopub.status.idle": "2020-10-14T01:47:44.059020Z",
          "shell.execute_reply": "2020-10-14T01:47:44.058352Z"
        },
        "id": "zk2WJ2-XjkGz",
        "colab": {
          "base_uri": "https://localhost:8080/",
          "height": 35
        },
        "outputId": "498fabba-af9a-4777-908a-1ba4dad47d71"
      },
      "source": [
        "tf.train.latest_checkpoint(checkpoint_dir)"
      ],
      "execution_count": 31,
      "outputs": [
        {
          "output_type": "execute_result",
          "data": {
            "application/vnd.google.colaboratory.intrinsic+json": {
              "type": "string"
            },
            "text/plain": [
              "'./training_checkpoints/ckpt_10'"
            ]
          },
          "metadata": {
            "tags": []
          },
          "execution_count": 31
        }
      ]
    },
    {
      "cell_type": "code",
      "metadata": {
        "execution": {
          "iopub.execute_input": "2020-10-14T01:47:44.069516Z",
          "iopub.status.busy": "2020-10-14T01:47:44.068762Z",
          "iopub.status.idle": "2020-10-14T01:47:44.282229Z",
          "shell.execute_reply": "2020-10-14T01:47:44.281650Z"
        },
        "id": "LycQ-ot_jjyu"
      },
      "source": [
        "model = build_model(vocab_size, embedding_dim, rnn_units, batch_size=1)\n",
        "\n",
        "model.load_weights(tf.train.latest_checkpoint(checkpoint_dir))\n",
        "\n",
        "model.build(tf.TensorShape([1, None]))"
      ],
      "execution_count": 32,
      "outputs": []
    },
    {
      "cell_type": "code",
      "metadata": {
        "execution": {
          "iopub.execute_input": "2020-10-14T01:47:44.287368Z",
          "iopub.status.busy": "2020-10-14T01:47:44.286735Z",
          "iopub.status.idle": "2020-10-14T01:47:44.289856Z",
          "shell.execute_reply": "2020-10-14T01:47:44.290263Z"
        },
        "id": "71xa6jnYVrAN",
        "colab": {
          "base_uri": "https://localhost:8080/"
        },
        "outputId": "06d5e75f-b45b-4527-d367-dcbff6bc73e3"
      },
      "source": [
        "model.summary()"
      ],
      "execution_count": 33,
      "outputs": [
        {
          "output_type": "stream",
          "text": [
            "Model: \"sequential_1\"\n",
            "_________________________________________________________________\n",
            "Layer (type)                 Output Shape              Param #   \n",
            "=================================================================\n",
            "embedding_1 (Embedding)      (1, None, 256)            21760     \n",
            "_________________________________________________________________\n",
            "gru_1 (GRU)                  (1, None, 1024)           3938304   \n",
            "_________________________________________________________________\n",
            "dense_1 (Dense)              (1, None, 85)             87125     \n",
            "=================================================================\n",
            "Total params: 4,047,189\n",
            "Trainable params: 4,047,189\n",
            "Non-trainable params: 0\n",
            "_________________________________________________________________\n"
          ],
          "name": "stdout"
        }
      ]
    },
    {
      "cell_type": "markdown",
      "metadata": {
        "id": "DjGz1tDkzf-u"
      },
      "source": [
        "### The prediction loop\n",
        "\n",
        "The following code block generates the text:\n",
        "\n",
        "* Begin by choosing a start string, initializing the RNN state and setting the number of characters to generate.\n",
        "\n",
        "* Get the prediction distribution of the next character using the start string and the RNN state.\n",
        "\n",
        "* Then, use a categorical distribution to calculate the index of the predicted character. Use this predicted character as our next input to the model.\n",
        "\n",
        "* The RNN state returned by the model is fed back into the model so that it now has more context, instead of only one character. After predicting the next character, the modified RNN states are again fed back into the model, which is how it learns as it gets more context from the previously predicted characters.\n",
        "\n",
        "\n",
        "![To generate text the model's output is fed back to the input](images/text_generation_sampling.png)\n",
        "\n",
        "Looking at the generated text, you'll see the model knows when to capitalize, make paragraphs and imitates a Shakespeare-like writing vocabulary. With the small number of training epochs, it has not yet learned to form coherent sentences."
      ]
    },
    {
      "cell_type": "code",
      "metadata": {
        "execution": {
          "iopub.execute_input": "2020-10-14T01:47:44.297059Z",
          "iopub.status.busy": "2020-10-14T01:47:44.296432Z",
          "iopub.status.idle": "2020-10-14T01:47:44.298680Z",
          "shell.execute_reply": "2020-10-14T01:47:44.298149Z"
        },
        "id": "WvuwZBX5Ogfd"
      },
      "source": [
        "def generate_text(model, start_string):\n",
        "    # Evaluation step (generating text using the learned model)\n",
        "\n",
        "    # Number of characters to generate\n",
        "    num_generate = 1000\n",
        "\n",
        "    # Converting our start string to numbers (vectorizing)\n",
        "    input_eval = [char2idx[s] for s in start_string]\n",
        "    input_eval = tf.expand_dims(input_eval, 0)\n",
        "\n",
        "    # Empty string to store our results\n",
        "    text_generated = []\n",
        "\n",
        "    # Low temperature results in more predictable text.\n",
        "    # Higher temperature results in more surprising text.\n",
        "    # Experiment to find the best setting.\n",
        "    temperature = 1.0\n",
        "\n",
        "    # Here batch size == 1\n",
        "    model.reset_states()\n",
        "    for i in range(num_generate):\n",
        "        predictions = model(input_eval)\n",
        "        # remove the batch dimension\n",
        "        predictions = tf.squeeze(predictions, 0)\n",
        "\n",
        "        # using a categorical distribution to predict the character returned by the model\n",
        "        predictions = predictions / temperature\n",
        "        predicted_id = tf.random.categorical(predictions, num_samples=1)[-1,0].numpy()\n",
        "\n",
        "        # Pass the predicted character as the next input to the model\n",
        "        # along with the previous hidden state\n",
        "        input_eval = tf.expand_dims([predicted_id], 0)\n",
        "\n",
        "        text_generated.append(idx2char[predicted_id])\n",
        "\n",
        "    return (start_string + ''.join(text_generated))"
      ],
      "execution_count": 34,
      "outputs": []
    },
    {
      "cell_type": "code",
      "metadata": {
        "execution": {
          "iopub.execute_input": "2020-10-14T01:47:44.302653Z",
          "iopub.status.busy": "2020-10-14T01:47:44.302037Z",
          "iopub.status.idle": "2020-10-14T01:47:48.000324Z",
          "shell.execute_reply": "2020-10-14T01:47:48.000767Z"
        },
        "id": "ktovv0RFhrkn",
        "colab": {
          "base_uri": "https://localhost:8080/"
        },
        "outputId": "16c380bd-2272-488f-daea-d82dde6b5ee4"
      },
      "source": [
        "print(generate_text(model, start_string=u\"ROMEO: \"))"
      ],
      "execution_count": 35,
      "outputs": [
        {
          "output_type": "stream",
          "text": [
            "ROMEO: Vaese Lady Arryn,\n",
            "—his steel,\n",
            "you say that I was afraids song.”\n",
            "Of the world had become the khals besider, Robert. Tell Khal Joffrey, “but us cleanity the\n",
            "Dornish must then? Nothing must wed. Goreah, but whoo Stark storecel hungur when Jon\n",
            "told\n",
            "him since it pity the arms, and keep her father’s shouts with us.”\n",
            "“Your Grace,” Jon had found the axtle. “Tregar is wrong, he has need of able enjoy to be moved\n",
            "off Vance as Sansa insisted.”\n",
            "“And you,” Samwell Darwy rose every\n",
            "mounted appeal, unsilled themselves\n",
            "behind.” He drew it\n",
            "almost . . . but the left, her father’s head,\n",
            "surrounded by Stone Crows, well.” He shouted at her right hand like a slower eshat visible of a long, roasted in the ward the world to him?” Aerys’s newked windows, and\n",
            "took the heavy further over, and Ned had not ride down open with a sweet needle, Father alone and forgotten. Robert’s brother may never may happen, my lords.” Lord Petyr had taken it two hundred ribs, but there were the realm on these little guard, Bran in\n"
          ],
          "name": "stdout"
        }
      ]
    },
    {
      "cell_type": "markdown",
      "metadata": {
        "id": "AM2Uma_-yVIq"
      },
      "source": [
        "The easiest thing you can do to improve the results is to train it for longer (try `EPOCHS = 30`).\n",
        "\n",
        "You can also experiment with a different start string, try adding another RNN layer to improve the model's accuracy, or adjust the temperature parameter to generate more or less random predictions."
      ]
    },
    {
      "cell_type": "markdown",
      "metadata": {
        "id": "Y4QwTjAM6A2O"
      },
      "source": [
        "## Advanced: Customized Training\n",
        "\n",
        "The above training procedure is simple, but does not give you much control.\n",
        "\n",
        "So now that you've seen how to run the model manually let's unpack the training loop, and implement it ourselves. This gives a starting point if, for example, you want to implement _curriculum learning_ to help stabilize the model's open-loop output.\n",
        "\n",
        "Use `tf.GradientTape` to track the gradients. You can learn more about this approach by reading the [eager execution guide](https://www.tensorflow.org/guide/eager).\n",
        "\n",
        "The procedure works as follows:\n",
        "\n",
        "* First, reset the RNN state. You do this by calling the `tf.keras.Model.reset_states` method.\n",
        "\n",
        "* Next, iterate over the dataset (batch by batch) and calculate the *predictions* associated with each.\n",
        "\n",
        "* Open a `tf.GradientTape`, and calculate the predictions and loss in that context.\n",
        "\n",
        "* Calculate the gradients of the loss with respect to the model variables using the `tf.GradientTape.grads` method.\n",
        "\n",
        "* Finally, take a step downwards by using the optimizer's `tf.train.Optimizer.apply_gradients` method.\n"
      ]
    },
    {
      "cell_type": "code",
      "metadata": {
        "execution": {
          "iopub.execute_input": "2020-10-14T01:47:48.011376Z",
          "iopub.status.busy": "2020-10-14T01:47:48.010507Z",
          "iopub.status.idle": "2020-10-14T01:47:48.209389Z",
          "shell.execute_reply": "2020-10-14T01:47:48.206596Z"
        },
        "id": "_XAm7eCoKULT",
        "colab": {
          "base_uri": "https://localhost:8080/"
        },
        "outputId": "6e0f863f-ed2e-4fa3-bf3e-c64a02f94049"
      },
      "source": [
        "model = build_model(\n",
        "    vocab_size=len(vocab),\n",
        "    embedding_dim=embedding_dim,\n",
        "    rnn_units=rnn_units,\n",
        "    batch_size=BATCH_SIZE)"
      ],
      "execution_count": 36,
      "outputs": [
        {
          "output_type": "stream",
          "text": [
            "WARNING:tensorflow:Unresolved object in checkpoint: (root).optimizer\n",
            "WARNING:tensorflow:Unresolved object in checkpoint: (root).optimizer.iter\n",
            "WARNING:tensorflow:Unresolved object in checkpoint: (root).optimizer.beta_1\n",
            "WARNING:tensorflow:Unresolved object in checkpoint: (root).optimizer.beta_2\n",
            "WARNING:tensorflow:Unresolved object in checkpoint: (root).optimizer.decay\n",
            "WARNING:tensorflow:Unresolved object in checkpoint: (root).optimizer.learning_rate\n",
            "WARNING:tensorflow:Unresolved object in checkpoint: (root).optimizer's state 'm' for (root).layer_with_weights-0.embeddings\n",
            "WARNING:tensorflow:Unresolved object in checkpoint: (root).optimizer's state 'm' for (root).layer_with_weights-2.kernel\n",
            "WARNING:tensorflow:Unresolved object in checkpoint: (root).optimizer's state 'm' for (root).layer_with_weights-2.bias\n",
            "WARNING:tensorflow:Unresolved object in checkpoint: (root).optimizer's state 'm' for (root).layer_with_weights-1.cell.kernel\n",
            "WARNING:tensorflow:Unresolved object in checkpoint: (root).optimizer's state 'm' for (root).layer_with_weights-1.cell.recurrent_kernel\n",
            "WARNING:tensorflow:Unresolved object in checkpoint: (root).optimizer's state 'm' for (root).layer_with_weights-1.cell.bias\n",
            "WARNING:tensorflow:Unresolved object in checkpoint: (root).optimizer's state 'v' for (root).layer_with_weights-0.embeddings\n",
            "WARNING:tensorflow:Unresolved object in checkpoint: (root).optimizer's state 'v' for (root).layer_with_weights-2.kernel\n",
            "WARNING:tensorflow:Unresolved object in checkpoint: (root).optimizer's state 'v' for (root).layer_with_weights-2.bias\n",
            "WARNING:tensorflow:Unresolved object in checkpoint: (root).optimizer's state 'v' for (root).layer_with_weights-1.cell.kernel\n",
            "WARNING:tensorflow:Unresolved object in checkpoint: (root).optimizer's state 'v' for (root).layer_with_weights-1.cell.recurrent_kernel\n",
            "WARNING:tensorflow:Unresolved object in checkpoint: (root).optimizer's state 'v' for (root).layer_with_weights-1.cell.bias\n",
            "WARNING:tensorflow:A checkpoint was restored (e.g. tf.train.Checkpoint.restore or tf.keras.Model.load_weights) but not all checkpointed values were used. See above for specific issues. Use expect_partial() on the load status object, e.g. tf.train.Checkpoint.restore(...).expect_partial(), to silence these warnings, or use assert_consumed() to make the check explicit. See https://www.tensorflow.org/guide/checkpoint#loading_mechanics for details.\n"
          ],
          "name": "stdout"
        }
      ]
    },
    {
      "cell_type": "code",
      "metadata": {
        "execution": {
          "iopub.execute_input": "2020-10-14T01:47:48.214175Z",
          "iopub.status.busy": "2020-10-14T01:47:48.213272Z",
          "iopub.status.idle": "2020-10-14T01:47:48.215797Z",
          "shell.execute_reply": "2020-10-14T01:47:48.215259Z"
        },
        "id": "qUKhnZtMVpoJ"
      },
      "source": [
        "optimizer = tf.keras.optimizers.Adam()"
      ],
      "execution_count": 37,
      "outputs": []
    },
    {
      "cell_type": "code",
      "metadata": {
        "execution": {
          "iopub.execute_input": "2020-10-14T01:47:48.221346Z",
          "iopub.status.busy": "2020-10-14T01:47:48.220682Z",
          "iopub.status.idle": "2020-10-14T01:47:48.222572Z",
          "shell.execute_reply": "2020-10-14T01:47:48.222972Z"
        },
        "id": "b4kH1o0leVIp"
      },
      "source": [
        "@tf.function\n",
        "def train_step(inp, target):\n",
        "    with tf.GradientTape() as tape:\n",
        "        predictions = model(inp)\n",
        "        loss = tf.reduce_mean(\n",
        "            tf.keras.losses.sparse_categorical_crossentropy(\n",
        "                target, predictions, from_logits=True))\n",
        "    grads = tape.gradient(loss, model.trainable_variables)\n",
        "    optimizer.apply_gradients(zip(grads, model.trainable_variables))\n",
        "\n",
        "    return loss"
      ],
      "execution_count": 38,
      "outputs": []
    },
    {
      "cell_type": "code",
      "metadata": {
        "execution": {
          "iopub.execute_input": "2020-10-14T01:47:48.230202Z",
          "iopub.status.busy": "2020-10-14T01:47:48.229505Z",
          "iopub.status.idle": "2020-10-14T01:48:42.524134Z",
          "shell.execute_reply": "2020-10-14T01:48:42.523585Z"
        },
        "id": "d4tSNwymzf-q",
        "colab": {
          "base_uri": "https://localhost:8080/"
        },
        "outputId": "73d04e51-6820-4500-ae7d-b0230ddb45a4"
      },
      "source": [
        "# Training step\n",
        "EPOCHS = 10\n",
        "\n",
        "for epoch in range(EPOCHS):\n",
        "    start = time.time()\n",
        "\n",
        "    # resetting the hidden state at the start of every epoch\n",
        "    model.reset_states()\n",
        "\n",
        "    for (batch_n, (inp, target)) in enumerate(dataset):\n",
        "        loss = train_step(inp, target)\n",
        "\n",
        "        if batch_n % 100 == 0:\n",
        "            template = 'Epoch {} Batch {} Loss {}'\n",
        "            print(template.format(epoch + 1, batch_n, loss))\n",
        "\n",
        "    # saving (checkpoint) the model every 5 epochs\n",
        "    if (epoch + 1) % 5 == 0:\n",
        "        model.save_weights(checkpoint_prefix.format(epoch=epoch))\n",
        "\n",
        "    print('Epoch {} Loss {:.4f}'.format(epoch + 1, loss))\n",
        "    print('Time taken for 1 epoch {} sec\\n'.format(time.time() - start))\n",
        "\n",
        "model.save_weights(checkpoint_prefix.format(epoch=epoch))"
      ],
      "execution_count": 39,
      "outputs": [
        {
          "output_type": "stream",
          "text": [
            "Epoch 1 Batch 0 Loss 4.443274021148682\n",
            "Epoch 1 Batch 100 Loss 2.321394205093384\n",
            "Epoch 1 Batch 200 Loss 2.018343925476074\n",
            "Epoch 1 Loss 1.9665\n",
            "Time taken for 1 epoch 16.493945598602295 sec\n",
            "\n",
            "Epoch 2 Batch 0 Loss 1.9154479503631592\n",
            "Epoch 2 Batch 100 Loss 1.8329275846481323\n",
            "Epoch 2 Batch 200 Loss 1.654199242591858\n",
            "Epoch 2 Loss 1.5963\n",
            "Time taken for 1 epoch 15.70805311203003 sec\n",
            "\n",
            "Epoch 3 Batch 0 Loss 1.5290135145187378\n",
            "Epoch 3 Batch 100 Loss 1.4693617820739746\n",
            "Epoch 3 Batch 200 Loss 1.3867286443710327\n",
            "Epoch 3 Loss 1.4299\n",
            "Time taken for 1 epoch 15.439208745956421 sec\n",
            "\n",
            "Epoch 4 Batch 0 Loss 1.3794512748718262\n",
            "Epoch 4 Batch 100 Loss 1.4048736095428467\n",
            "Epoch 4 Batch 200 Loss 1.3774203062057495\n",
            "Epoch 4 Loss 1.3441\n",
            "Time taken for 1 epoch 15.329729318618774 sec\n",
            "\n",
            "Epoch 5 Batch 0 Loss 1.2522536516189575\n",
            "Epoch 5 Batch 100 Loss 1.3373849391937256\n",
            "Epoch 5 Batch 200 Loss 1.3352844715118408\n",
            "Epoch 5 Loss 1.2836\n",
            "Time taken for 1 epoch 15.39037799835205 sec\n",
            "\n",
            "Epoch 6 Batch 0 Loss 1.2315384149551392\n",
            "Epoch 6 Batch 100 Loss 1.2676609754562378\n",
            "Epoch 6 Batch 200 Loss 1.2567085027694702\n",
            "Epoch 6 Loss 1.2520\n",
            "Time taken for 1 epoch 15.450326442718506 sec\n",
            "\n",
            "Epoch 7 Batch 0 Loss 1.1576223373413086\n",
            "Epoch 7 Batch 100 Loss 1.2173819541931152\n",
            "Epoch 7 Batch 200 Loss 1.2231624126434326\n",
            "Epoch 7 Loss 1.2079\n",
            "Time taken for 1 epoch 15.494093179702759 sec\n",
            "\n",
            "Epoch 8 Batch 0 Loss 1.1509559154510498\n",
            "Epoch 8 Batch 100 Loss 1.1850699186325073\n",
            "Epoch 8 Batch 200 Loss 1.171921730041504\n",
            "Epoch 8 Loss 1.1711\n",
            "Time taken for 1 epoch 15.467760562896729 sec\n",
            "\n",
            "Epoch 9 Batch 0 Loss 1.1100382804870605\n",
            "Epoch 9 Batch 100 Loss 1.1551203727722168\n",
            "Epoch 9 Batch 200 Loss 1.1609759330749512\n",
            "Epoch 9 Loss 1.1677\n",
            "Time taken for 1 epoch 15.43342900276184 sec\n",
            "\n",
            "Epoch 10 Batch 0 Loss 1.0571380853652954\n",
            "Epoch 10 Batch 100 Loss 1.135319709777832\n",
            "Epoch 10 Batch 200 Loss 1.1185920238494873\n",
            "Epoch 10 Loss 1.1417\n",
            "Time taken for 1 epoch 15.49776029586792 sec\n",
            "\n"
          ],
          "name": "stdout"
        }
      ]
    },
    {
      "cell_type": "code",
      "metadata": {
        "id": "Ywf-uCGuGi2q"
      },
      "source": [
        ""
      ],
      "execution_count": 39,
      "outputs": []
    }
  ]
}